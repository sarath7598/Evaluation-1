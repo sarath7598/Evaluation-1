{
 "cells": [
  {
   "cell_type": "code",
   "execution_count": 1,
   "id": "8e807a76",
   "metadata": {},
   "outputs": [],
   "source": [
    "import pandas as pd\n",
    "import numpy as np\n",
    "import matplotlib.pyplot as plt\n",
    "from tensorflow.python.keras import models, layers, optimizers\n",
    "import tensorflow\n",
    "from tensorflow.keras.preprocessing.text import Tokenizer, text_to_word_sequence\n",
    "from tensorflow.keras.preprocessing.sequence import pad_sequences\n",
    "import bz2\n",
    "from sklearn.metrics import f1_score, roc_auc_score, accuracy_score\n",
    "import re\n",
    "\n",
    "\n",
    "%matplotlib inline"
   ]
  },
  {
   "cell_type": "code",
   "execution_count": 2,
   "id": "7f65ec6b",
   "metadata": {},
   "outputs": [],
   "source": [
    "#Creating a function to load the text and labels from train and set"
   ]
  },
  {
   "cell_type": "code",
   "execution_count": 3,
   "id": "79f86926",
   "metadata": {},
   "outputs": [],
   "source": [
    "def get_labels_and_texts(file):\n",
    "    labels = []\n",
    "    texts = []\n",
    "    for line in bz2.BZ2File(file):\n",
    "        x = line.decode(\"utf-8\")\n",
    "        labels.append(int(x[9])-1)\n",
    "        texts.append(x[10:].strip())\n",
    "    return np.array(labels),texts \n",
    "train_labels, train_texts = get_labels_and_texts('train.ft.txt.bz2')\n",
    "test_labels, test_texts = get_labels_and_texts('test.ft.txt.bz2')"
   ]
  },
  {
   "cell_type": "code",
   "execution_count": 4,
   "id": "ab4997d5",
   "metadata": {},
   "outputs": [
    {
     "data": {
      "text/plain": [
       "1"
      ]
     },
     "execution_count": 4,
     "metadata": {},
     "output_type": "execute_result"
    }
   ],
   "source": [
    "train_labels[0]"
   ]
  },
  {
   "cell_type": "code",
   "execution_count": 5,
   "id": "cb1d4daf",
   "metadata": {},
   "outputs": [
    {
     "data": {
      "text/plain": [
       "'Stuning even for the non-gamer: This sound track was beautiful! It paints the senery in your mind so well I would recomend it even to people who hate vid. game music! I have played the game Chrono Cross but out of all of the games I have ever played it has the best music! It backs away from crude keyboarding and takes a fresher step with grate guitars and soulful orchestras. It would impress anyone who cares to listen! ^_^'"
      ]
     },
     "execution_count": 5,
     "metadata": {},
     "output_type": "execute_result"
    }
   ],
   "source": [
    "train_texts[0]"
   ]
  },
  {
   "cell_type": "code",
   "execution_count": 6,
   "id": "1c4df6e7",
   "metadata": {},
   "outputs": [],
   "source": [
    "train_labels=train_labels[0:500]"
   ]
  },
  {
   "cell_type": "code",
   "execution_count": 7,
   "id": "bfbc7603",
   "metadata": {},
   "outputs": [],
   "source": [
    "train_texts=train_texts[0:500]"
   ]
  },
  {
   "cell_type": "code",
   "execution_count": 9,
   "id": "74ec7508",
   "metadata": {},
   "outputs": [],
   "source": [
    "import re\n",
    "NON_ALPHANUM = re.compile(r'[\\W]')\n",
    "NON_ASCII = re.compile(r'[^a-z0-1\\s]')\n",
    "def normalize_texts(texts):\n",
    "    normalized_texts = []\n",
    "    for text in texts :\n",
    "        lower = text.lower()\n",
    "        no_punctuation = NON_ALPHANUM.sub(r' ',lower)\n",
    "        no_non_ascii = NON_ASCII.sub(r'',no_punctuation)\n",
    "        normalized_texts.append(no_non_ascii)\n",
    "    return normalized_texts\n",
    "train_texts = normalize_texts(train_texts)\n",
    "test_texts = normalize_texts(test_texts)"
   ]
  },
  {
   "cell_type": "code",
   "execution_count": 10,
   "id": "032225ad",
   "metadata": {},
   "outputs": [
    {
     "data": {
      "text/plain": [
       "'stuning even for the non gamer  this sound track was beautiful  it paints the senery in your mind so well i would recomend it even to people who hate vid  game music  i have played the game chrono cross but out of all of the games i have ever played it has the best music  it backs away from crude keyboarding and takes a fresher step with grate guitars and soulful orchestras  it would impress anyone who cares to listen    '"
      ]
     },
     "execution_count": 10,
     "metadata": {},
     "output_type": "execute_result"
    }
   ],
   "source": [
    "train_texts[0]"
   ]
  },
  {
   "cell_type": "code",
   "execution_count": 11,
   "id": "09d611d1",
   "metadata": {},
   "outputs": [],
   "source": [
    "#countvectorizer\n"
   ]
  },
  {
   "cell_type": "code",
   "execution_count": 12,
   "id": "faa6de60",
   "metadata": {},
   "outputs": [],
   "source": [
    "import pickle\n",
    "from sklearn.feature_extraction.text import CountVectorizer\n",
    "cv = CountVectorizer(binary=True)\n",
    "cv.fit(train_texts)\n",
    "x=cv.transform(train_texts)\n",
    "x_test = cv.transform(test_texts)\n",
    "pickle.dump(cv, open(\"vector.pickel\", \"wb\"))\n"
   ]
  },
  {
   "cell_type": "code",
   "execution_count": 13,
   "id": "f32ad0f5",
   "metadata": {},
   "outputs": [
    {
     "name": "stdout",
     "output_type": "stream",
     "text": [
      "Accuracy for C=0.01: 0.72\n",
      "Accuracy for C=0.05: 0.768\n",
      "Accuracy for C=0.25: 0.784\n",
      "Accuracy for C=0.5: 0.8\n",
      "Accuracy for C=1: 0.8\n"
     ]
    }
   ],
   "source": [
    "from sklearn.linear_model import LogisticRegression\n",
    "from sklearn.metrics import accuracy_score\n",
    "from sklearn.model_selection import train_test_split\n",
    "\n",
    "\n",
    "x_train,x_val, y_train, y_val = train_test_split(x,train_labels, train_size=0.75)\n",
    "\n",
    "\n",
    "for c in [0.01, 0.05, 0.25, 0.5, 1]:\n",
    "    Ir = LogisticRegression(C=c)\n",
    "    Ir.fit(x_train,y_train)\n",
    "    print(\"Accuracy for C=%s: %s\" % (c,accuracy_score(y_val,Ir.predict(x_val))))"
   ]
  },
  {
   "cell_type": "code",
   "execution_count": 14,
   "id": "31056701",
   "metadata": {},
   "outputs": [
    {
     "name": "stdout",
     "output_type": "stream",
     "text": [
      "Accuracy for C=0.5: 0.8\n"
     ]
    }
   ],
   "source": [
    "#final model\n",
    "Ir = LogisticRegression(C=0.5)\n",
    "Ir.fit(x_train,y_train)\n",
    "print(\"Accuracy for C=%s: %s\" % (0.5,accuracy_score(y_val,Ir.predict(x_val))))\n",
    "pickle.dump(Ir, open('model.pkl', 'wb'))"
   ]
  },
  {
   "cell_type": "code",
   "execution_count": 15,
   "id": "cada021f",
   "metadata": {},
   "outputs": [
    {
     "data": {
      "text/plain": [
       "array([0])"
      ]
     },
     "execution_count": 15,
     "metadata": {},
     "output_type": "execute_result"
    }
   ],
   "source": [
    "Ir.predict(x_test[2])"
   ]
  },
  {
   "cell_type": "code",
   "execution_count": 16,
   "id": "c37034c1",
   "metadata": {},
   "outputs": [
    {
     "data": {
      "text/plain": [
       "0"
      ]
     },
     "execution_count": 16,
     "metadata": {},
     "output_type": "execute_result"
    }
   ],
   "source": [
    "test_labels[2]"
   ]
  },
  {
   "cell_type": "code",
   "execution_count": 17,
   "id": "cdb4eb2d",
   "metadata": {},
   "outputs": [
    {
     "data": {
      "text/plain": [
       "'batteries died within a year      i bought this charger in jul 00 and it worked ok for a while  the design is nice and convenient  however  after about a year  the batteries would not hold a charge  might as well just get alkaline disposables  or look elsewhere for a charger that comes with batteries that have better staying power '"
      ]
     },
     "execution_count": 17,
     "metadata": {},
     "output_type": "execute_result"
    }
   ],
   "source": [
    "test_texts[2]\n"
   ]
  },
  {
   "cell_type": "code",
   "execution_count": 18,
   "id": "9b6455fb",
   "metadata": {},
   "outputs": [
    {
     "data": {
      "text/plain": [
       "array([0])"
      ]
     },
     "execution_count": 18,
     "metadata": {},
     "output_type": "execute_result"
    }
   ],
   "source": [
    "import csv\n",
    "filename = \"chrome_reviews.csv\"\n",
    "ls = []\n",
    "ts = []\n",
    "rw= []\n",
    "file = open(filename, encoding=\"utf8\")\n",
    "csvreader = csv.reader(file)\n",
    "fields = next(csvreader)\n",
    "for row in csvreader:\n",
    "    ls.append(row[3])\n",
    "    rw.append(row[2].strip())\n",
    "ts = normalize_texts(rw)\n",
    "x_t = cv.transform(ts)\n",
    "Ir.predict(x_t[2])\n",
    "\n"
   ]
  },
  {
   "cell_type": "code",
   "execution_count": 21,
   "id": "59da3349",
   "metadata": {},
   "outputs": [
    {
     "data": {
      "text/plain": [
       "'not able to update  neither able to uninstall '"
      ]
     },
     "execution_count": 21,
     "metadata": {},
     "output_type": "execute_result"
    }
   ],
   "source": [
    "ts[2]"
   ]
  },
  {
   "cell_type": "code",
   "execution_count": 19,
   "id": "2d4ea19d",
   "metadata": {},
   "outputs": [
    {
     "data": {
      "text/plain": [
       "array([0])"
      ]
     },
     "execution_count": 19,
     "metadata": {},
     "output_type": "execute_result"
    }
   ],
   "source": [
    "vectorizer = pickle.load(open(\"vector.pickel\", \"rb\"))\n",
    "loaded_model = pickle.load(open(\"model.pkl\", \"rb\"))\n",
    "loaded_model.predict(vectorizer.transform([ts[2]]))"
   ]
  },
  {
   "cell_type": "code",
   "execution_count": 49,
   "id": "fdc45b53",
   "metadata": {},
   "outputs": [
    {
     "name": "stdout",
     "output_type": "stream",
     "text": [
      "<class 'numpy.ndarray'>\n"
     ]
    }
   ],
   "source": [
    "k=''\n",
    "k=Ir.predict(x_t[2])\n",
    "\n",
    "print(type(k))"
   ]
  },
  {
   "cell_type": "code",
   "execution_count": 20,
   "id": "f78edd55",
   "metadata": {},
   "outputs": [
    {
     "name": "stdout",
     "output_type": "stream",
     "text": [
      "After update it lag and always slow same goes to googleee ;)))))) !!!! I want to do my work but 🌚\n",
      "After update it lag and always slow same goes to googleee ;)))))) !!!! I want to do my work but 🌚\n",
      "After update it lag and always slow same goes to googleee ;)))))) !!!! I want to do my work but 🌚\n",
      "After update it lag and always slow same goes to googleee ;)))))) !!!! I want to do my work but 🌚\n",
      "After update it lag and always slow same goes to googleee ;)))))) !!!! I want to do my work but 🌚\n",
      "After update it lag and always slow same goes to googleee ;)))))) !!!! I want to do my work but 🌚\n",
      "After update it lag and always slow same goes to googleee ;)))))) !!!! I want to do my work but 🌚\n",
      "After update it lag and always slow same goes to googleee ;)))))) !!!! I want to do my work but 🌚\n",
      "After update it lag and always slow same goes to googleee ;)))))) !!!! I want to do my work but 🌚\n",
      "After update it lag and always slow same goes to googleee ;)))))) !!!! I want to do my work but 🌚\n",
      "After update it lag and always slow same goes to googleee ;)))))) !!!! I want to do my work but 🌚\n",
      "After update it lag and always slow same goes to googleee ;)))))) !!!! I want to do my work but 🌚\n",
      "After update it lag and always slow same goes to googleee ;)))))) !!!! I want to do my work but 🌚\n",
      "After update it lag and always slow same goes to googleee ;)))))) !!!! I want to do my work but 🌚\n",
      "After update it lag and always slow same goes to googleee ;)))))) !!!! I want to do my work but 🌚\n",
      "After update it lag and always slow same goes to googleee ;)))))) !!!! I want to do my work but 🌚\n",
      "After update it lag and always slow same goes to googleee ;)))))) !!!! I want to do my work but 🌚\n",
      "After update it lag and always slow same goes to googleee ;)))))) !!!! I want to do my work but 🌚\n",
      "After update it lag and always slow same goes to googleee ;)))))) !!!! I want to do my work but 🌚\n",
      "After update it lag and always slow same goes to googleee ;)))))) !!!! I want to do my work but 🌚\n",
      "After update it lag and always slow same goes to googleee ;)))))) !!!! I want to do my work but 🌚\n",
      "After update it lag and always slow same goes to googleee ;)))))) !!!! I want to do my work but 🌚\n",
      "After update it lag and always slow same goes to googleee ;)))))) !!!! I want to do my work but 🌚\n",
      "After update it lag and always slow same goes to googleee ;)))))) !!!! I want to do my work but 🌚\n",
      "After update it lag and always slow same goes to googleee ;)))))) !!!! I want to do my work but 🌚\n",
      "After update it lag and always slow same goes to googleee ;)))))) !!!! I want to do my work but 🌚\n",
      "After update it lag and always slow same goes to googleee ;)))))) !!!! I want to do my work but 🌚\n",
      "After update it lag and always slow same goes to googleee ;)))))) !!!! I want to do my work but 🌚\n",
      "After update it lag and always slow same goes to googleee ;)))))) !!!! I want to do my work but 🌚\n",
      "After update it lag and always slow same goes to googleee ;)))))) !!!! I want to do my work but 🌚\n",
      "After update it lag and always slow same goes to googleee ;)))))) !!!! I want to do my work but 🌚\n",
      "After update it lag and always slow same goes to googleee ;)))))) !!!! I want to do my work but 🌚\n",
      "After update it lag and always slow same goes to googleee ;)))))) !!!! I want to do my work but 🌚\n",
      "After update it lag and always slow same goes to googleee ;)))))) !!!! I want to do my work but 🌚\n",
      "After update it lag and always slow same goes to googleee ;)))))) !!!! I want to do my work but 🌚\n",
      "After update it lag and always slow same goes to googleee ;)))))) !!!! I want to do my work but 🌚\n",
      "After update it lag and always slow same goes to googleee ;)))))) !!!! I want to do my work but 🌚\n",
      "After update it lag and always slow same goes to googleee ;)))))) !!!! I want to do my work but 🌚\n",
      "After update it lag and always slow same goes to googleee ;)))))) !!!! I want to do my work but 🌚\n",
      "After update it lag and always slow same goes to googleee ;)))))) !!!! I want to do my work but 🌚\n",
      "After update it lag and always slow same goes to googleee ;)))))) !!!! I want to do my work but 🌚\n",
      "After update it lag and always slow same goes to googleee ;)))))) !!!! I want to do my work but 🌚\n",
      "After update it lag and always slow same goes to googleee ;)))))) !!!! I want to do my work but 🌚\n",
      "After update it lag and always slow same goes to googleee ;)))))) !!!! I want to do my work but 🌚\n",
      "After update it lag and always slow same goes to googleee ;)))))) !!!! I want to do my work but 🌚\n",
      "After update it lag and always slow same goes to googleee ;)))))) !!!! I want to do my work but 🌚\n",
      "After update it lag and always slow same goes to googleee ;)))))) !!!! I want to do my work but 🌚\n",
      "After update it lag and always slow same goes to googleee ;)))))) !!!! I want to do my work but 🌚\n",
      "After update it lag and always slow same goes to googleee ;)))))) !!!! I want to do my work but 🌚\n",
      "After update it lag and always slow same goes to googleee ;)))))) !!!! I want to do my work but 🌚\n",
      "After update it lag and always slow same goes to googleee ;)))))) !!!! I want to do my work but 🌚\n",
      "After update it lag and always slow same goes to googleee ;)))))) !!!! I want to do my work but 🌚\n",
      "After update it lag and always slow same goes to googleee ;)))))) !!!! I want to do my work but 🌚\n",
      "After update it lag and always slow same goes to googleee ;)))))) !!!! I want to do my work but 🌚\n",
      "After update it lag and always slow same goes to googleee ;)))))) !!!! I want to do my work but 🌚\n",
      "After update it lag and always slow same goes to googleee ;)))))) !!!! I want to do my work but 🌚\n",
      "After update it lag and always slow same goes to googleee ;)))))) !!!! I want to do my work but 🌚\n",
      "After update it lag and always slow same goes to googleee ;)))))) !!!! I want to do my work but 🌚\n",
      "After update it lag and always slow same goes to googleee ;)))))) !!!! I want to do my work but 🌚\n",
      "After update it lag and always slow same goes to googleee ;)))))) !!!! I want to do my work but 🌚\n",
      "After update it lag and always slow same goes to googleee ;)))))) !!!! I want to do my work but 🌚\n",
      "After update it lag and always slow same goes to googleee ;)))))) !!!! I want to do my work but 🌚\n",
      "After update it lag and always slow same goes to googleee ;)))))) !!!! I want to do my work but 🌚\n",
      "After update it lag and always slow same goes to googleee ;)))))) !!!! I want to do my work but 🌚\n",
      "After update it lag and always slow same goes to googleee ;)))))) !!!! I want to do my work but 🌚\n",
      "After update it lag and always slow same goes to googleee ;)))))) !!!! I want to do my work but 🌚\n",
      "After update it lag and always slow same goes to googleee ;)))))) !!!! I want to do my work but 🌚\n",
      "After update it lag and always slow same goes to googleee ;)))))) !!!! I want to do my work but 🌚\n",
      "After update it lag and always slow same goes to googleee ;)))))) !!!! I want to do my work but 🌚\n",
      "After update it lag and always slow same goes to googleee ;)))))) !!!! I want to do my work but 🌚\n",
      "After update it lag and always slow same goes to googleee ;)))))) !!!! I want to do my work but 🌚\n",
      "After update it lag and always slow same goes to googleee ;)))))) !!!! I want to do my work but 🌚\n",
      "After update it lag and always slow same goes to googleee ;)))))) !!!! I want to do my work but 🌚\n",
      "After update it lag and always slow same goes to googleee ;)))))) !!!! I want to do my work but 🌚\n",
      "After update it lag and always slow same goes to googleee ;)))))) !!!! I want to do my work but 🌚\n",
      "After update it lag and always slow same goes to googleee ;)))))) !!!! I want to do my work but 🌚\n",
      "After update it lag and always slow same goes to googleee ;)))))) !!!! I want to do my work but 🌚\n",
      "After update it lag and always slow same goes to googleee ;)))))) !!!! I want to do my work but 🌚\n",
      "After update it lag and always slow same goes to googleee ;)))))) !!!! I want to do my work but 🌚\n"
     ]
    }
   ],
   "source": [
    "arr = np.array([1])\n",
    "for i in range(100):\n",
    "    if row[3] in {'1','2'} and Ir.predict(x_t[i]) == arr :\n",
    "        print(row[2])"
   ]
  },
  {
   "cell_type": "code",
   "execution_count": null,
   "id": "6d4204f7",
   "metadata": {},
   "outputs": [],
   "source": []
  }
 ],
 "metadata": {
  "kernelspec": {
   "display_name": "Python 3 (ipykernel)",
   "language": "python",
   "name": "python3"
  },
  "language_info": {
   "codemirror_mode": {
    "name": "ipython",
    "version": 3
   },
   "file_extension": ".py",
   "mimetype": "text/x-python",
   "name": "python",
   "nbconvert_exporter": "python",
   "pygments_lexer": "ipython3",
   "version": "3.9.7"
  }
 },
 "nbformat": 4,
 "nbformat_minor": 5
}
